{
 "cells": [
  {
   "cell_type": "markdown",
   "id": "22d45a4f",
   "metadata": {},
   "source": [
    "## Basics of python\n",
    "In this module we will learn basics of python "
   ]
  },
  {
   "cell_type": "code",
   "execution_count": 5,
   "id": "772ba0ba",
   "metadata": {},
   "outputs": [
    {
     "name": "stdout",
     "output_type": "stream",
     "text": [
      "a\n",
      "10\n"
     ]
    }
   ],
   "source": [
    "#print function in python \n",
    "print(\"a\")\n",
    "a = 10 \n",
    "print(a)"
   ]
  },
  {
   "cell_type": "markdown",
   "id": "b1ac426e",
   "metadata": {},
   "source": [
    "### end=\"\" (same line)\n",
    "In python the print function automatically prints the statement in the new line but if we doesnot want a new line then we use end=\"\""
   ]
  },
  {
   "cell_type": "code",
   "execution_count": 7,
   "id": "3ea3fd06",
   "metadata": {},
   "outputs": [
    {
     "name": "stdout",
     "output_type": "stream",
     "text": [
      "no new line 10\n"
     ]
    }
   ],
   "source": [
    "print(\"no new line \" , end=\"\")\n",
    "print(a)"
   ]
  },
  {
   "cell_type": "markdown",
   "id": "a5e0182e",
   "metadata": {},
   "source": [
    "# Variables in python "
   ]
  },
  {
   "cell_type": "markdown",
   "id": "8b06a62b",
   "metadata": {},
   "source": [
    "We donot have to declayer the data type in python.\n",
    "we can directly create varible "
   ]
  },
  {
   "cell_type": "code",
   "execution_count": 10,
   "id": "332d5876",
   "metadata": {},
   "outputs": [],
   "source": [
    "a = 10            #integer \n",
    "b = 20.4          #float\n",
    "c = 2 + 4j        #complex"
   ]
  },
  {
   "cell_type": "code",
   "execution_count": 11,
   "id": "a4ed2794",
   "metadata": {},
   "outputs": [],
   "source": [
    "a = 'a'\n",
    "b = 'strings in python can be written in single as well as double quotations'"
   ]
  },
  {
   "cell_type": "code",
   "execution_count": 13,
   "id": "217bf6f1",
   "metadata": {},
   "outputs": [
    {
     "name": "stdout",
     "output_type": "stream",
     "text": [
      "71\n",
      "<class 'str'>\n"
     ]
    }
   ],
   "source": [
    "print(len(b))\n",
    "print(type(b))\n",
    "# strings in python are immutable but can be interatable and slicing and can be concated"
   ]
  },
  {
   "cell_type": "code",
   "execution_count": 14,
   "id": "2a451044",
   "metadata": {},
   "outputs": [
    {
     "name": "stdout",
     "output_type": "stream",
     "text": [
      "STRINGS IN PYTHON CAN BE WRITTEN IN SINGLE AS WELL AS DOUBLE QUOTATIONS\n",
      "strings in python can be written in single as well as double quotations\n"
     ]
    }
   ],
   "source": [
    "print(b.upper())\n",
    "print(b.lower())"
   ]
  },
  {
   "cell_type": "code",
   "execution_count": 16,
   "id": "85b6ab96",
   "metadata": {},
   "outputs": [
    {
     "name": "stdout",
     "output_type": "stream",
     "text": [
      "strings in python can be written in single as well as double quotations\n"
     ]
    }
   ],
   "source": [
    "print(b.strip())\n",
    "#in this function the leading and trilling whitespace can be removed"
   ]
  },
  {
   "cell_type": "code",
   "execution_count": 17,
   "id": "3ed2f593",
   "metadata": {},
   "outputs": [
    {
     "name": "stdout",
     "output_type": "stream",
     "text": [
      "assdds\n"
     ]
    }
   ],
   "source": [
    "#input from user input \n",
    "a = input()\n",
    "# user input is by default string "
   ]
  },
  {
   "cell_type": "code",
   "execution_count": 18,
   "id": "0eba1db8",
   "metadata": {},
   "outputs": [
    {
     "name": "stdout",
     "output_type": "stream",
     "text": [
      "3\n"
     ]
    }
   ],
   "source": [
    "#if we want integer or any other input then :\n",
    "i = int(input())"
   ]
  },
  {
   "cell_type": "code",
   "execution_count": 21,
   "id": "ac8c301e",
   "metadata": {},
   "outputs": [
    {
     "name": "stdout",
     "output_type": "stream",
     "text": [
      "a\n",
      "b\n"
     ]
    }
   ],
   "source": [
    "#Indexing \n",
    "s = \"abc\"\n",
    "print(s[0])\n",
    "print(s[-2])"
   ]
  },
  {
   "cell_type": "code",
   "execution_count": 26,
   "id": "6e72582d",
   "metadata": {},
   "outputs": [
    {
     "name": "stdout",
     "output_type": "stream",
     "text": [
      "cd\n",
      "efg\n",
      "cdefgh\n",
      "abcde\n",
      "abcdefgh\n"
     ]
    }
   ],
   "source": [
    "#slicing \n",
    "#this will slice the string accourding to our needs\n",
    "# the slicing are done in square brackets : s[starting index : ending index - 1]\n",
    "str = \"abcdefgh\"\n",
    "print(str[2:4])\n",
    "print(str[-4:-1])\n",
    "print(str[2:])\n",
    "print(str[:5])\n",
    "print(str[:])"
   ]
  },
  {
   "cell_type": "markdown",
   "id": "3c318d6d",
   "metadata": {},
   "source": [
    "## Tuples "
   ]
  },
  {
   "cell_type": "code",
   "execution_count": 28,
   "id": "098cd776",
   "metadata": {},
   "outputs": [
    {
     "name": "stdout",
     "output_type": "stream",
     "text": [
      "(2, 3, 4, 5)\n",
      "<class 'tuple'>\n",
      "4\n",
      "(1, 'salk', 33.44, [2, 3, 4, 5])\n"
     ]
    }
   ],
   "source": [
    "t = (2,3,4,5)\n",
    "print(t)\n",
    "print(type(t))\n",
    "print(t[2])\n",
    "s = (1,'salk' , 33.44 , [2,3,4,5])\n",
    "print(s)"
   ]
  },
  {
   "cell_type": "markdown",
   "id": "3578e128",
   "metadata": {},
   "source": [
    "### operators on tules"
   ]
  },
  {
   "cell_type": "code",
   "execution_count": 30,
   "id": "379a83b7",
   "metadata": {},
   "outputs": [
    {
     "name": "stdout",
     "output_type": "stream",
     "text": [
      "(1, 2, 'd', 4)\n",
      "(1, 2, 1, 2)\n",
      "True\n",
      "False\n"
     ]
    }
   ],
   "source": [
    "t = (1,2)\n",
    "s = (\"d\" , 4)\n",
    "print(t+s)\n",
    "print(t*2)\n",
    "print(1 in t)\n",
    "print(3 in s)"
   ]
  },
  {
   "cell_type": "markdown",
   "id": "f34d38d8",
   "metadata": {},
   "source": [
    "### Booleans "
   ]
  },
  {
   "cell_type": "code",
   "execution_count": 31,
   "id": "5d06a76a",
   "metadata": {},
   "outputs": [],
   "source": [
    "a = True \n",
    "b = False"
   ]
  },
  {
   "cell_type": "markdown",
   "id": "1ab4d4e7",
   "metadata": {},
   "source": [
    "## Operators"
   ]
  },
  {
   "cell_type": "markdown",
   "id": "8c5b94d7",
   "metadata": {},
   "source": [
    "### Relational Operators"
   ]
  },
  {
   "cell_type": "code",
   "execution_count": 32,
   "id": "138add84",
   "metadata": {},
   "outputs": [
    {
     "name": "stdout",
     "output_type": "stream",
     "text": [
      "False\n",
      "False\n",
      "True\n",
      "True\n",
      "False\n",
      "True\n"
     ]
    }
   ],
   "source": [
    "x = 20 \n",
    "y = 30\n",
    "print(x > y)\n",
    "print( x >= y)\n",
    "print(x <=y )\n",
    "print(x < y)\n",
    "print(x == y)\n",
    "print(x != y)"
   ]
  },
  {
   "cell_type": "markdown",
   "id": "56f3f9b8",
   "metadata": {},
   "source": [
    "### Logical Operators"
   ]
  },
  {
   "cell_type": "code",
   "execution_count": 33,
   "id": "566d5b70",
   "metadata": {},
   "outputs": [
    {
     "name": "stdout",
     "output_type": "stream",
     "text": [
      "True\n",
      "True\n"
     ]
    }
   ],
   "source": [
    "x = 10\n",
    "y = 20\n",
    "z = 30\n",
    "\n",
    "print(x < y and y < z)\n",
    "print(x > y or y < z)"
   ]
  },
  {
   "cell_type": "markdown",
   "id": "ffd23405",
   "metadata": {},
   "source": [
    "## Conditions "
   ]
  },
  {
   "cell_type": "code",
   "execution_count": 1,
   "id": "2054492a",
   "metadata": {},
   "outputs": [
    {
     "name": "stdout",
     "output_type": "stream",
     "text": [
      "z is greatest\n"
     ]
    }
   ],
   "source": [
    "#if else \n",
    "x = 30  \n",
    "y = 20\n",
    "z = 40\n",
    "if x > y and x > z :\n",
    "    print('x is the greatest')\n",
    "elif y > x and y > z :\n",
    "    print('y is greatest')\n",
    "else:\n",
    "    print('z is greatest')"
   ]
  },
  {
   "cell_type": "markdown",
   "id": "dd5ad27c",
   "metadata": {},
   "source": [
    "## loops "
   ]
  },
  {
   "cell_type": "code",
   "execution_count": 2,
   "id": "e14e49ef",
   "metadata": {},
   "outputs": [
    {
     "name": "stdout",
     "output_type": "stream",
     "text": [
      "5\n",
      "5 10 15 20 25 \n",
      "done\n"
     ]
    }
   ],
   "source": [
    "#while loop \n",
    "n = int(input())\n",
    "i = 1\n",
    "while i <= n:\n",
    "    print(i*n , end=\" \")\n",
    "    i += 1\n",
    "print()\n",
    "print('done')"
   ]
  },
  {
   "cell_type": "code",
   "execution_count": 10,
   "id": "f1065733",
   "metadata": {},
   "outputs": [
    {
     "name": "stdout",
     "output_type": "stream",
     "text": [
      "1 2 3 4 5 6 7 8 9 10 "
     ]
    }
   ],
   "source": [
    "#for loop ond range \n",
    "for i in range(1,11):\n",
    "    print(i , end =\" \")"
   ]
  },
  {
   "cell_type": "code",
   "execution_count": 24,
   "id": "0f4755a4",
   "metadata": {},
   "outputs": [
    {
     "name": "stdout",
     "output_type": "stream",
     "text": [
      "17\n",
      "17  is prime number\n"
     ]
    }
   ],
   "source": [
    "#prime number \n",
    "n = int(input())\n",
    "if n == 0 or n == 1:\n",
    "    print('not a prime number')\n",
    "else :\n",
    "    for i in range(2,n//2 + 1):\n",
    "        if n%i == 0:\n",
    "            res = False\n",
    "            break\n",
    "        else:\n",
    "            res = True\n",
    "    if res:\n",
    "        print(n , ' is prime number')\n",
    "    else:\n",
    "        print(n, ' is not a prime number')"
   ]
  },
  {
   "cell_type": "code",
   "execution_count": 26,
   "id": "eb02f0b5",
   "metadata": {},
   "outputs": [
    {
     "name": "stdout",
     "output_type": "stream",
     "text": [
      "a b c d e f g h i "
     ]
    }
   ],
   "source": [
    "# fast iteration \n",
    "s = 'abcdefghi'\n",
    "for c in s :\n",
    "    print(c , end =\" \")"
   ]
  },
  {
   "cell_type": "code",
   "execution_count": 27,
   "id": "86a18f57",
   "metadata": {},
   "outputs": [
    {
     "name": "stdout",
     "output_type": "stream",
     "text": [
      "abcd\n",
      "a\n",
      "a\n",
      "a\n"
     ]
    }
   ],
   "source": [
    "x = 'abcd'\n",
    "for i in range(len(x)):\n",
    "    print(x)\n",
    "    x='a'"
   ]
  },
  {
   "cell_type": "markdown",
   "id": "a2887b32",
   "metadata": {},
   "source": [
    "## Functions "
   ]
  },
  {
   "cell_type": "code",
   "execution_count": 29,
   "id": "6c5266f9",
   "metadata": {},
   "outputs": [
    {
     "name": "stdout",
     "output_type": "stream",
     "text": [
      "30\n"
     ]
    }
   ],
   "source": [
    "def sum(a,b):\n",
    "    return a+b\n",
    "a = 10\n",
    "b = 20\n",
    "print(sum(a,b))"
   ]
  },
  {
   "cell_type": "code",
   "execution_count": 34,
   "id": "2617d5e9",
   "metadata": {},
   "outputs": [
    {
     "name": "stdout",
     "output_type": "stream",
     "text": [
      "80\n",
      "44\n",
      "16\n"
     ]
    },
    {
     "data": {
      "text/plain": [
       "63"
      ]
     },
     "execution_count": 34,
     "metadata": {},
     "output_type": "execute_result"
    }
   ],
   "source": [
    "#default argument in python\n",
    "def DefaultSum(a=1, b=2,c=4):\n",
    "    return a+b+c\n",
    "a = 10\n",
    "b = 30\n",
    "c = 40\n",
    "print(DefaultSum(a,b,c))\n",
    "print(DefaultSum(a,b))\n",
    "print(DefaultSum(a))\n",
    "DefaultSum(c=60)"
   ]
  },
  {
   "cell_type": "code",
   "execution_count": 35,
   "id": "808550e9",
   "metadata": {},
   "outputs": [
    {
     "name": "stdout",
     "output_type": "stream",
     "text": [
      "<class 'tuple'>\n",
      "(2, 3, 5, 6, 24)\n"
     ]
    },
    {
     "data": {
      "text/plain": [
       "10"
      ]
     },
     "execution_count": 35,
     "metadata": {},
     "output_type": "execute_result"
    }
   ],
   "source": [
    "# variable number of inputs to a function\n",
    "def SumVariable(a,b,*more):\n",
    "    print(type(more))\n",
    "    print(more)\n",
    "    return 10\n",
    "SumVariable(10,12,2,3,5,6,24)"
   ]
  },
  {
   "cell_type": "code",
   "execution_count": 36,
   "id": "a8b1a6df",
   "metadata": {},
   "outputs": [
    {
     "name": "stdout",
     "output_type": "stream",
     "text": [
      "30  and  -10\n"
     ]
    }
   ],
   "source": [
    "#Return more than one value from a function\n",
    "def MoreValue(a,b):\n",
    "    return a+b , a-b\n",
    "s , d = MoreValue(10,20)\n",
    "print(s, \" and \" , d)"
   ]
  },
  {
   "cell_type": "code",
   "execution_count": 40,
   "id": "0aee0824",
   "metadata": {},
   "outputs": [
    {
     "name": "stdout",
     "output_type": "stream",
     "text": [
      "1 2 34 5 6 7 8 9 10 11 12 13\n"
     ]
    }
   ],
   "source": [
    "# taking a list or array as an input \n",
    "l = [int(x) for x in input().strip().split(\" \")]"
   ]
  },
  {
   "cell_type": "code",
   "execution_count": 42,
   "id": "e6942679",
   "metadata": {},
   "outputs": [
    {
     "name": "stdout",
     "output_type": "stream",
     "text": [
      "[1, 2, 3, 2, 4, 5, 6, 8, 10, 20]\n"
     ]
    }
   ],
   "source": [
    "# Add elements in a list \n",
    "l = [1,2,3,4,5,6]\n",
    "l.append(8)          # always add in the end of the list\n",
    "l.insert(3,2)        # insert in specific function (pos , ele)\n",
    "l1 = [10,20]\n",
    "l.extend(l1)\n",
    "print(l)"
   ]
  },
  {
   "cell_type": "code",
   "execution_count": null,
   "id": "66d079a8",
   "metadata": {},
   "outputs": [],
   "source": []
  }
 ],
 "metadata": {
  "kernelspec": {
   "display_name": "Python 3 (ipykernel)",
   "language": "python",
   "name": "python3"
  },
  "language_info": {
   "codemirror_mode": {
    "name": "ipython",
    "version": 3
   },
   "file_extension": ".py",
   "mimetype": "text/x-python",
   "name": "python",
   "nbconvert_exporter": "python",
   "pygments_lexer": "ipython3",
   "version": "3.10.12"
  }
 },
 "nbformat": 4,
 "nbformat_minor": 5
}
